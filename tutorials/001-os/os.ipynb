{
 "cells": [
  {
   "cell_type": "markdown",
   "id": "047fd402-7066-4769-91dd-20769fcbf242",
   "metadata": {},
   "source": [
    "# Operating System (os) module"
   ]
  },
  {
   "cell_type": "markdown",
   "id": "5e087121-d857-48ae-9cdf-fbf49e0e34af",
   "metadata": {},
   "source": [
    "### Importing the module:"
   ]
  },
  {
   "cell_type": "code",
   "execution_count": 2,
   "id": "6e7a3b62-3df8-4d87-81ea-0cdb70cc95f2",
   "metadata": {
    "tags": []
   },
   "outputs": [],
   "source": [
    "import os"
   ]
  },
  {
   "cell_type": "markdown",
   "id": "e0df981e-9b19-4ec9-b8fd-0123f502a98d",
   "metadata": {},
   "source": [
    "### Creating a file:"
   ]
  },
  {
   "cell_type": "code",
   "execution_count": 3,
   "id": "bac875a1-84b2-4d44-8b0f-4d40b9d42568",
   "metadata": {
    "tags": []
   },
   "outputs": [],
   "source": [
    "with open(\"test\", \"w\") as f:\n",
    "    pass"
   ]
  },
  {
   "cell_type": "markdown",
   "id": "748f3e9c-51d9-4fd7-ae9b-1581eb5dfd0b",
   "metadata": {},
   "source": [
    "Check if the file exists:"
   ]
  },
  {
   "cell_type": "code",
   "execution_count": 9,
   "id": "64ff680a-dad1-459c-970a-860ec0a9c728",
   "metadata": {
    "tags": []
   },
   "outputs": [
    {
     "data": {
      "text/plain": [
       "True"
      ]
     },
     "execution_count": 9,
     "metadata": {},
     "output_type": "execute_result"
    }
   ],
   "source": [
    "os.path.exists(\"test\")"
   ]
  },
  {
   "cell_type": "markdown",
   "id": "832fb30b-a7e6-4ea2-855b-7a3ba52dfe77",
   "metadata": {},
   "source": [
    "### Creating a directory"
   ]
  }
 ],
 "metadata": {
  "kernelspec": {
   "display_name": "Python 3 (ipykernel)",
   "language": "python",
   "name": "python3"
  },
  "language_info": {
   "codemirror_mode": {
    "name": "ipython",
    "version": 3
   },
   "file_extension": ".py",
   "mimetype": "text/x-python",
   "name": "python",
   "nbconvert_exporter": "python",
   "pygments_lexer": "ipython3",
   "version": "3.10.9"
  }
 },
 "nbformat": 4,
 "nbformat_minor": 5
}
