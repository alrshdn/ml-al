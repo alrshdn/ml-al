{
 "cells": [
  {
   "cell_type": "markdown",
   "id": "047fd402-7066-4769-91dd-20769fcbf242",
   "metadata": {},
   "source": [
    "# Operating System (os) module"
   ]
  },
  {
   "cell_type": "markdown",
   "id": "5e087121-d857-48ae-9cdf-fbf49e0e34af",
   "metadata": {},
   "source": [
    "### Importing the module:"
   ]
  },
  {
   "cell_type": "code",
   "execution_count": 1,
   "id": "6e7a3b62-3df8-4d87-81ea-0cdb70cc95f2",
   "metadata": {
    "tags": []
   },
   "outputs": [],
   "source": [
    "import os"
   ]
  },
  {
   "cell_type": "markdown",
   "id": "e0df981e-9b19-4ec9-b8fd-0123f502a98d",
   "metadata": {},
   "source": [
    "### Creating a file:"
   ]
  },
  {
   "cell_type": "code",
   "execution_count": 2,
   "id": "bac875a1-84b2-4d44-8b0f-4d40b9d42568",
   "metadata": {
    "tags": []
   },
   "outputs": [],
   "source": [
    "with open(\"test\", \"w\") as f:\n",
    "    pass"
   ]
  },
  {
   "cell_type": "code",
   "execution_count": null,
   "id": "9e1919c1-2acb-43f0-a875-32d6691355a0",
   "metadata": {},
   "outputs": [],
   "source": []
  }
 ],
 "metadata": {
  "kernelspec": {
   "display_name": "Python 3 (ipykernel)",
   "language": "python",
   "name": "python3"
  },
  "language_info": {
   "codemirror_mode": {
    "name": "ipython",
    "version": 3
   },
   "file_extension": ".py",
   "mimetype": "text/x-python",
   "name": "python",
   "nbconvert_exporter": "python",
   "pygments_lexer": "ipython3",
   "version": "3.10.9"
  }
 },
 "nbformat": 4,
 "nbformat_minor": 5
}
