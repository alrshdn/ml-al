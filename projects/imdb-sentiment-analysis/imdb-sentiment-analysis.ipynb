{
 "cells": [
  {
   "cell_type": "markdown",
   "id": "53878deb-d803-4089-9aaf-d4b32a7bed21",
   "metadata": {},
   "source": [
    "# IMDB Sentiment Analysis\n",
    "The following model will be trained to classify movie reviews as either positive or negative. The input of this model will be reviews' text."
   ]
  },
  {
   "cell_type": "markdown",
   "id": "376014e0-892e-469c-98f6-fcb07a09e560",
   "metadata": {},
   "source": [
    "### Importing necessary tools"
   ]
  },
  {
   "cell_type": "code",
   "execution_count": null,
   "id": "9331555b-2e4a-45a6-9625-23656013aae1",
   "metadata": {
    "tags": []
   },
   "outputs": [],
   "source": [
    "import tensorflow as tf\n",
    "from tensorflow import version\n",
    "\n",
    "import numpy as np\n",
    "import matplotlib.pyplot as plt\n",
    "\n",
    "import os\n",
    "import shutil  # shell utilities\n",
    "\n",
    "import string\n",
    "import re  # regular expressions"
   ]
  },
  {
   "cell_type": "code",
   "execution_count": 2,
   "id": "a593473b-ec77-4e4c-b524-51b41c43c51f",
   "metadata": {
    "tags": []
   },
   "outputs": [
    {
     "name": "stdout",
     "output_type": "stream",
     "text": [
      "TensorFlow version:  2.11.0\n"
     ]
    }
   ],
   "source": [
    "print(\"TensorFlow version: \", version.VERSION)"
   ]
  },
  {
   "cell_type": "markdown",
   "id": "ce8db5d7-b058-4fb9-b8fa-b5a9ba72bedd",
   "metadata": {},
   "source": [
    "### Downloading the dataset"
   ]
  },
  {
   "cell_type": "markdown",
   "id": "7cbaeabb-1f51-429e-ad9d-2a70342b0efe",
   "metadata": {},
   "source": [
    "If dataset is not downloaded, download and extract it:"
   ]
  },
  {
   "cell_type": "code",
   "execution_count": 3,
   "id": "e3617195-1adc-4b23-aa25-d057984f30ac",
   "metadata": {
    "tags": []
   },
   "outputs": [
    {
     "data": {
      "text/plain": [
       "['train', 'test', 'imdbEr.txt', 'README', '.ipynb_checkpoints', 'imdb.vocab']"
      ]
     },
     "execution_count": 3,
     "metadata": {},
     "output_type": "execute_result"
    }
   ],
   "source": [
    "if not os.path.isdir(\"data/aclImdb\"):\n",
    "    url = r\"https://ai.stanford.edu/%7Eamaas/data/sentiment/aclImdb_v1.tar.gz\"\n",
    "    dataset = tf.keras.utils.get_file(\n",
    "        fname=\"aclImdb_v1\", origin=url,\n",
    "        cache_dir=\"data\", cache_subdir='',\n",
    "        extract=True,\n",
    "    )\n",
    "    \n",
    "    '''\n",
    "    dataset          data/aclImdb_v1.tar.gz\n",
    "    dataset dirname  data\n",
    "    dataset joined   data/aclImdb\n",
    "    '''\n",
    "    dataset_dir = os.path.join(os.path.dirname(dataset), \"aclImdb\")\n",
    "else:\n",
    "    dataset_dir = \"data/aclImdb\"\n",
    "\n",
    "os.listdir(dataset_dir)"
   ]
  },
  {
   "cell_type": "markdown",
   "id": "de07eed8-3238-4269-b04a-8370b8c242d4",
   "metadata": {},
   "source": [
    "Listing the directories inside of the 'train' directory and visualizing an input sample's format:\n",
    "\n",
    "**Note**: I notice \"br\" tags which must be taken care of."
   ]
  },
  {
   "cell_type": "code",
   "execution_count": 4,
   "id": "629e9d4d-3bb1-4db8-91e5-761cbccfa907",
   "metadata": {
    "tags": []
   },
   "outputs": [
    {
     "name": "stdout",
     "output_type": "stream",
     "text": [
      "data/aclImdb/train:\n",
      "\t['pos', 'neg', 'urls_neg.txt', 'labeledBow.feat', 'unsupBow.feat', 'urls_pos.txt', 'urls_unsup.txt']\n",
      "\n",
      "data/aclImdb/test:\n",
      "\t['pos', 'neg', 'urls_neg.txt', 'labeledBow.feat', 'urls_pos.txt']\n",
      "\n",
      "data/aclImdb/train/pos:\n",
      "\t['6797_8.txt', '736_10.txt', '12370_8.txt', '7142_8.txt', '1946_9.txt']...\n",
      "\n",
      "Sample positive review:\n",
      "\tHoles, originally a novel by Louis Sachar, was successfully transformed into an entertaining and well-made film. Starring Sigourney Weaver as the warden, Shia Labeouf as Stanley, and Khleo Thomas as Zero, the roles were very well casted, and the actors portrayed their roles well.<br /><br />The film had inter-weaving storylines that all led up to the end. The main storyline is about Stanley Yelnats and his punishment of spending a year and a half at Camp Greenlake. The second storyline is about Sam and Kate Barlow. This plot deals with racism and it is the more deep storyline to the movie. The third is about Elya Yelnats and Madame Zeroni, which explains the 100-year curse on the Yelnats family. In my opinion, these storylines were weaved together very well.<br /><br />Contrary to many people's beliefs, I think that you do not have to have read the book to understand the movie. The film is reasonably easy to understand.<br /><br />The acting in the film was well done, especially Shia Labeouf (Stanley), Khleo Thomas (Zero), Sigourney Weaver (the warden), and Jon Voight (Mr. Sir). The other members of D-Tent, Jake Smith (Squid), Max Kasch (Zig-Zag), Miguel Castro (Magnet), Byron Cotton (Armpit), and Brenden Jefferson (X-Ray), enhanced the comic relief of the movie. However, the best parts were with Zero and Stanley, who made a great team together.<br /><br />Although Holes is a Disney movie, it deals with some serious issues such as racism, shootings, and violence. The film's dramatization at some points is very well done.<br /><br />I would suggest this movie to people of all ages, whether they have read the book or not. You shouldn't miss it.\n"
     ]
    }
   ],
   "source": [
    "train_dir = os.path.join(dataset_dir, \"train\")\n",
    "print(train_dir, \":\\n\\t\" , os.listdir(train_dir), sep='', end=\"\\n\\n\")\n",
    "test_dir = os.path.join(dataset_dir, \"test\")\n",
    "print(test_dir, \":\\n\\t\" , os.listdir(test_dir), sep='', end=\"\\n\\n\")\n",
    "\n",
    "pos_dir = os.path.join(train_dir, \"pos\")\n",
    "print(pos_dir, \":\\n\\t\" , os.listdir(pos_dir)[:5], \"...\", sep='', end=\"\\n\\n\")\n",
    "\n",
    "sample_file = os.path.join(pos_dir, \"7142_8.txt\")\n",
    "with open(sample_file, 'r') as f:\n",
    "    print(\"Sample positive review\", \":\\n\\t\", f.read(), sep='')"
   ]
  },
  {
   "cell_type": "markdown",
   "id": "42319720-7fcd-4dbf-8a34-651bcdba97d2",
   "metadata": {},
   "source": [
    "### Loading the dataset to memory:"
   ]
  },
  {
   "cell_type": "markdown",
   "id": "a4e430f3-9e9c-424c-8a52-49b09b947872",
   "metadata": {},
   "source": [
    "**Note**: To prepare a dataset for binary classification, you will need two folders on disk, corresponding to class_a and class_b.  Any other folders must be removed before using the `text_dataset_from_directory` utility.\n",
    "\n",
    "Removing the extra directory \"unsup\" from the \"train\" directory if it exists:"
   ]
  },
  {
   "cell_type": "code",
   "execution_count": 5,
   "id": "afb9fcf7-1818-408a-941b-029e626cb36b",
   "metadata": {
    "tags": []
   },
   "outputs": [],
   "source": [
    "if os.path.isdir(\"data/aclImdb/train/unsup\"):\n",
    "    unsup_dir = os.path.join(train_dir, \"unsup\")\n",
    "    shutil.rmtree(unsup_dir)\n",
    "    print(\"Deleted \\\"unsup\\\" directory.\")"
   ]
  },
  {
   "cell_type": "markdown",
   "id": "791cb97a-20b4-4d25-af89-3992b8b176be",
   "metadata": {},
   "source": [
    "Dividing the raw dataset into training and validation sets using the `validation_split` argument (80:20):"
   ]
  },
  {
   "cell_type": "code",
   "execution_count": 6,
   "id": "cf518bc3-09fb-4938-9561-6594f40f5c1a",
   "metadata": {
    "tags": []
   },
   "outputs": [
    {
     "name": "stdout",
     "output_type": "stream",
     "text": [
      "Found 25000 files belonging to 2 classes.\n",
      "Using 20000 files for training.\n",
      "Using 5000 files for validation.\n"
     ]
    },
    {
     "name": "stderr",
     "output_type": "stream",
     "text": [
      "2023-03-18 01:20:36.549711: W tensorflow/compiler/xla/stream_executor/platform/default/dso_loader.cc:64] Could not load dynamic library 'libcuda.so.1'; dlerror: libcuda.so.1: cannot open shared object file: No such file or directory\n",
      "2023-03-18 01:20:36.549725: W tensorflow/compiler/xla/stream_executor/cuda/cuda_driver.cc:265] failed call to cuInit: UNKNOWN ERROR (303)\n",
      "2023-03-18 01:20:36.549733: I tensorflow/compiler/xla/stream_executor/cuda/cuda_diagnostics.cc:156] kernel driver does not appear to be running on this host (alrshdn): /proc/driver/nvidia/version does not exist\n",
      "2023-03-18 01:20:36.549892: I tensorflow/core/platform/cpu_feature_guard.cc:193] This TensorFlow binary is optimized with oneAPI Deep Neural Network Library (oneDNN) to use the following CPU instructions in performance-critical operations:  AVX2 AVX_VNNI FMA\n",
      "To enable them in other operations, rebuild TensorFlow with the appropriate compiler flags.\n"
     ]
    },
    {
     "name": "stdout",
     "output_type": "stream",
     "text": [
      "Found 25000 files belonging to 2 classes.\n"
     ]
    }
   ],
   "source": [
    "batch_size = 32\n",
    "seed = 42\n",
    "\n",
    "# loading the training and validation sets\n",
    "raw_train_ds, raw_val_ds = tf.keras.utils.text_dataset_from_directory(\n",
    "    directory=train_dir,\n",
    "    batch_size=batch_size,\n",
    "    validation_split=0.2,\n",
    "    subset=\"both\",\n",
    "    seed=seed)\n",
    "# alternatively\n",
    "'''\n",
    "raw_train_ds = tf.keras.utils.text_dataset_from_directory(\n",
    "    directory=train_dir, \n",
    "    batch_size=batch_size,\n",
    "    validation_split=0.2,\n",
    "    subset=\"training\",\n",
    "    seed=seed)\n",
    "\n",
    "raw_val_ds = tf.keras.utils.text_dataset_from_directory(\n",
    "    directory=train_dir, \n",
    "    batch_size=batch_size, \n",
    "    validation_split=0.2, \n",
    "    subset='validation', \n",
    "    seed=seed)\n",
    "'''\n",
    "\n",
    "# loading the testing set\n",
    "raw_test_ds = tf.keras.utils.text_dataset_from_directory(\n",
    "    directory=test_dir, \n",
    "    batch_size=batch_size)"
   ]
  },
  {
   "cell_type": "markdown",
   "id": "8f42d2de-a921-41da-a384-1194346cb362",
   "metadata": {},
   "source": [
    "Notice Dataset type difference:"
   ]
  },
  {
   "cell_type": "code",
   "execution_count": 7,
   "id": "46dc7e87-248d-45a6-bd24-0cc5a62a6163",
   "metadata": {
    "tags": []
   },
   "outputs": [
    {
     "data": {
      "text/plain": [
       "(<BatchDataset element_spec=(TensorSpec(shape=(None,), dtype=tf.string, name=None), TensorSpec(shape=(None,), dtype=tf.int32, name=None))>,\n",
       " <TakeDataset element_spec=(TensorSpec(shape=(None,), dtype=tf.string, name=None), TensorSpec(shape=(None,), dtype=tf.int32, name=None))>)"
      ]
     },
     "execution_count": 7,
     "metadata": {},
     "output_type": "execute_result"
    }
   ],
   "source": [
    "raw_train_ds, raw_train_ds.take(count=1)"
   ]
  },
  {
   "cell_type": "markdown",
   "id": "323be136-2225-4a10-9d52-2f2dd6415ebf",
   "metadata": {},
   "source": [
    "Iterating over the batches of BatchDataset and visualizing 3 examples from each batch:"
   ]
  },
  {
   "cell_type": "code",
   "execution_count": 8,
   "id": "5f798996-21e4-47d4-9fc0-a4d72c7e68c8",
   "metadata": {
    "tags": []
   },
   "outputs": [
    {
     "name": "stdout",
     "output_type": "stream",
     "text": [
      "Review b'\"Pandemonium\" is a horror movie spoof that comes off more stupid than funny. Believe me when I tell you, I love comedies. Especially comedy spoofs. \"Airplane\", \"The Naked Gun\" trilogy, \"Blazing Saddles\", \"High Anxiety\", and \"Spaceballs\" are some of my favorite comedies that spoof a particular genre. \"Pandemonium\" is not up there with those films. Most of the scenes in this movie had me sitting there in stunned silence because the movie wasn\\'t all that funny. There are a few laughs in the film, but when you watch a comedy, you expect to laugh a lot more than a few times and that\\'s all this film has going for it. Geez, \"Scream\" had more laughs than this film and that was more of a horror film. How bizarre is that?<br /><br />*1/2 (out of four)'\n",
      "Label 0\n",
      "Review b\"David Mamet is a very interesting and a very un-equal director. His first movie 'House of Games' was the one I liked best, and it set a series of films with characters whose perspective of life changes as they get into complicated situations, and so does the perspective of the viewer.<br /><br />So is 'Homicide' which from the title tries to set the mind of the viewer to the usual crime drama. The principal characters are two cops, one Jewish and one Irish who deal with a racially charged area. The murder of an old Jewish shop owner who proves to be an ancient veteran of the Israeli Independence war triggers the Jewish identity in the mind and heart of the Jewish detective.<br /><br />This is were the flaws of the film are the more obvious. The process of awakening is theatrical and hard to believe, the group of Jewish militants is operatic, and the way the detective eventually walks to the final violent confrontation is pathetic. The end of the film itself is Mamet-like smart, but disappoints from a human emotional perspective.<br /><br />Joe Mantegna and William Macy give strong performances, but the flaws of the story are too evident to be easily compensated.\"\n",
      "Label 0\n",
      "Review b'Great documentary about the lives of NY firefighters during the worst terrorist attack of all time.. That reason alone is why this should be a must see collectors item.. What shocked me was not only the attacks, but the\"High Fat Diet\" and physical appearance of some of these firefighters. I think a lot of Doctors would agree with me that,in the physical shape they were in, some of these firefighters would NOT of made it to the 79th floor carrying over 60 lbs of gear. Having said that i now have a greater respect for firefighters and i realize becoming a firefighter is a life altering job. The French have a history of making great documentary\\'s and that is what this is, a Great Documentary.....'\n",
      "Label 1\n"
     ]
    }
   ],
   "source": [
    "for text_batch, label_batch in raw_train_ds.take(count=1):  # count is the number of batches in this BatchDataset\n",
    "    for i in range(3):\n",
    "        print(\"Review\", text_batch.numpy()[i])\n",
    "        print(\"Label\", label_batch.numpy()[i])"
   ]
  },
  {
   "cell_type": "markdown",
   "id": "96f8fb88-2074-44d5-bc17-81a46c7cea74",
   "metadata": {},
   "source": [
    "Printing class names for each class label:\n",
    "\n",
    "**Note**: These are inferred from the folder names by the `text_dataset_from_directory` utility. There are other options in the `labels` argument for naming the classes. Also, this attribute is added by the utility and does not exist in the default `Dataset` class."
   ]
  },
  {
   "cell_type": "code",
   "execution_count": 9,
   "id": "31e47f0a-e9c1-456c-87ab-7f5aec2e7cb0",
   "metadata": {
    "tags": []
   },
   "outputs": [
    {
     "name": "stdout",
     "output_type": "stream",
     "text": [
      "Label 0: neg\n",
      "Label 1: pos\n"
     ]
    }
   ],
   "source": [
    "print(\"Label 0:\", raw_train_ds.class_names[0])\n",
    "print(\"Label 1:\", raw_train_ds.class_names[1])"
   ]
  },
  {
   "cell_type": "markdown",
   "id": "9b7d2800-d692-4785-a051-22a87ea4c337",
   "metadata": {},
   "source": [
    "### Data preparation"
   ]
  },
  {
   "cell_type": "markdown",
   "id": "0e7bb7c9-e93a-4987-9d41-8384e20f8f64",
   "metadata": {},
   "source": [
    "Text standardization, tokenization, and vectorization."
   ]
  },
  {
   "cell_type": "markdown",
   "id": "68846991-6814-486f-93cd-c7b0b302218f",
   "metadata": {},
   "source": [
    "1. Standardization: preprocessing the text data by removing punctuation and HTML tags, as well as switching to lowercase characters. (Data cleansing)\n",
    "\n",
    "2. Tokenization: splitting strings into tokens. (Feature extraction)\n",
    "\n",
    "3. Vectorization: converting tokens into numbers."
   ]
  },
  {
   "cell_type": "code",
   "execution_count": 10,
   "id": "21212dcd-daa7-499c-bdd0-5b4c5f1af2e4",
   "metadata": {
    "tags": []
   },
   "outputs": [],
   "source": [
    "def imdb_standardize(data):\n",
    "    \"\"\"Custom function for use in TensorFlow's TextVectorization layer.\"\"\"\n",
    "    \n",
    "    # lowercase\n",
    "    data_lowercase = tf.strings.lower(data)\n",
    "    \n",
    "    # removing HTML tags\n",
    "    data_stripped = tf.strings.regex_replace(data_lowercase,\n",
    "                                             \"<br />\", ' ')\n",
    "    # removing punctuation\n",
    "    return tf.strings.regex_replace(data_stripped,\n",
    "                                    \"[%s]\" % re.escape(string.punctuation), '')\n",
    "\n",
    "\n",
    "MAX_FEATURES = 10000\n",
    "\n",
    "# TextVectorization layer either truncates or pads sequences of tokens\n",
    "# to exactly `sequence_length` values\n",
    "SEQUENCE_LENGTH = 250\n",
    "# alternatively, use `tf.keras.utils.pad_sequences` for more control\n",
    "\n",
    "# custom standardization, default splitting, \n",
    "vectorize_layer = tf.keras.layers.TextVectorization(\n",
    "    standardize=imdb_standardize,\n",
    "    max_tokens=MAX_FEATURES,\n",
    "    output_mode=\"int\",  # unique integer indices for each token.\n",
    "    output_sequence_length=SEQUENCE_LENGTH)"
   ]
  },
  {
   "cell_type": "markdown",
   "id": "eaaa47b1-6e95-4cf1-87bf-4b0fcbc2b354",
   "metadata": {},
   "source": [
    "Fitting the preprocessing layer to the training data to build an index of strings to integers (vocabulary/dictionary):\n",
    "\n",
    "**Note**: It's important to only use the training data when calling adapt (using the test set would leak information)."
   ]
  },
  {
   "cell_type": "code",
   "execution_count": 11,
   "id": "2d87e42b-5d46-4ee6-9f7f-5c6ebc3361bc",
   "metadata": {
    "tags": []
   },
   "outputs": [
    {
     "name": "stdout",
     "output_type": "stream",
     "text": [
      "WARNING:tensorflow:From /home/alrshdn/.local/lib/python3.10/site-packages/tensorflow/python/autograph/pyct/static_analysis/liveness.py:83: Analyzer.lamba_check (from tensorflow.python.autograph.pyct.static_analysis.liveness) is deprecated and will be removed after 2023-09-23.\n",
      "Instructions for updating:\n",
      "Lambda fuctions will be no more assumed to be used in the statement where they are used, or at least in the same block. https://github.com/tensorflow/tensorflow/issues/56089\n"
     ]
    }
   ],
   "source": [
    "# removing the `label_batch` and keeping the `text_batch` to adapt the preprocessing layer to it\n",
    "train_text = raw_train_ds.map(lambda x, y: x)\n",
    "\n",
    "vectorize_layer.adapt(train_text)"
   ]
  },
  {
   "cell_type": "markdown",
   "id": "76d9ee35-9559-4e25-b943-0c828be04830",
   "metadata": {},
   "source": [
    "Testing the preprocessing layer on sample data:"
   ]
  },
  {
   "cell_type": "code",
   "execution_count": 12,
   "id": "3d192a3f-48f8-4820-91f3-2b88898a89da",
   "metadata": {
    "tags": []
   },
   "outputs": [
    {
     "name": "stdout",
     "output_type": "stream",
     "text": [
      "Review:\n",
      "tf.Tensor(b'Great movie - especially the music - Etta James - \"At Last\". This speaks volumes when you have finally found that special someone.', shape=(), dtype=string)\n",
      "\n",
      "Label:\n",
      "neg\n",
      "\n",
      "Vectorized review:\n",
      "(<tf.Tensor: shape=(1, 250), dtype=int64, numpy=\n",
      "array([[  86,   17,  260,    2,  222,    1,  571,   31,  229,   11, 2418,\n",
      "           1,   51,   22,   25,  404,  251,   12,  306,  282,    0,    0,\n",
      "           0,    0,    0,    0,    0,    0,    0,    0,    0,    0,    0,\n",
      "           0,    0,    0,    0,    0,    0,    0,    0,    0,    0,    0,\n",
      "           0,    0,    0,    0,    0,    0,    0,    0,    0,    0,    0,\n",
      "           0,    0,    0,    0,    0,    0,    0,    0,    0,    0,    0,\n",
      "           0,    0,    0,    0,    0,    0,    0,    0,    0,    0,    0,\n",
      "           0,    0,    0,    0,    0,    0,    0,    0,    0,    0,    0,\n",
      "           0,    0,    0,    0,    0,    0,    0,    0,    0,    0,    0,\n",
      "           0,    0,    0,    0,    0,    0,    0,    0,    0,    0,    0,\n",
      "           0,    0,    0,    0,    0,    0,    0,    0,    0,    0,    0,\n",
      "           0,    0,    0,    0,    0,    0,    0,    0,    0,    0,    0,\n",
      "           0,    0,    0,    0,    0,    0,    0,    0,    0,    0,    0,\n",
      "           0,    0,    0,    0,    0,    0,    0,    0,    0,    0,    0,\n",
      "           0,    0,    0,    0,    0,    0,    0,    0,    0,    0,    0,\n",
      "           0,    0,    0,    0,    0,    0,    0,    0,    0,    0,    0,\n",
      "           0,    0,    0,    0,    0,    0,    0,    0,    0,    0,    0,\n",
      "           0,    0,    0,    0,    0,    0,    0,    0,    0,    0,    0,\n",
      "           0,    0,    0,    0,    0,    0,    0,    0,    0,    0,    0,\n",
      "           0,    0,    0,    0,    0,    0,    0,    0,    0,    0,    0,\n",
      "           0,    0,    0,    0,    0,    0,    0,    0,    0,    0,    0,\n",
      "           0,    0,    0,    0,    0,    0,    0,    0,    0,    0,    0,\n",
      "           0,    0,    0,    0,    0,    0,    0,    0]])>, <tf.Tensor: shape=(), dtype=int32, numpy=0>)\n"
     ]
    }
   ],
   "source": [
    "def vectorize_text(text, label):\n",
    "    text = tf.expand_dims(text, -1)\n",
    "    return vectorize_layer(text), label\n",
    "\n",
    "\n",
    "# a batch from the dataset\n",
    "text_batch, label_batch = next(iter(raw_train_ds))\n",
    "review_0, label_0 = text_batch[0], label_batch[0]\n",
    "print(\"Review\", \":\\n\", review_0, sep='', end=\"\\n\\n\")\n",
    "print(\"Label\", \":\\n\", raw_train_ds.class_names[label_0], sep='', end=\"\\n\\n\")\n",
    "\n",
    "print(\"Vectorized review\", \":\\n\", vectorize_text(review_0, label_0), sep='')"
   ]
  },
  {
   "cell_type": "markdown",
   "id": "22c14901-03c3-447c-9357-7bb3b0194d3d",
   "metadata": {},
   "source": [
    "Looking up a string token that an integer corresponds to:"
   ]
  },
  {
   "cell_type": "code",
   "execution_count": 13,
   "id": "dc646631-dab9-4e8e-8af1-fe54f49fd0dd",
   "metadata": {
    "tags": []
   },
   "outputs": [
    {
     "name": "stdout",
     "output_type": "stream",
     "text": [
      "index 101 corresponds to string token: after\n",
      "index 249 corresponds to string token: making\n",
      "index 9999 corresponds to string token: rushes\n",
      "Vocabulary size = 10000 indices\n"
     ]
    }
   ],
   "source": [
    "vectorize_layer_vocab = vectorize_layer.get_vocabulary()\n",
    "print(\"index 101 corresponds to string token:\", vectorize_layer_vocab[101])\n",
    "print(\"index 249 corresponds to string token:\", vectorize_layer_vocab[249])\n",
    "print(\"index 9999 corresponds to string token:\", vectorize_layer_vocab[9999])\n",
    "\n",
    "print(\"Vocabulary size =\", len(vectorize_layer_vocab), \"indices\")  # `max_tokens`"
   ]
  },
  {
   "cell_type": "markdown",
   "id": "3f0f60fe-affd-4bae-8f2f-9f9d3a00bf15",
   "metadata": {},
   "source": [
    "Preprocessing the training, validation, and testing sets:"
   ]
  },
  {
   "cell_type": "code",
   "execution_count": 14,
   "id": "78a5df88-d598-4df9-bd29-3715af11682c",
   "metadata": {
    "tags": []
   },
   "outputs": [],
   "source": [
    "# remember that the datasets have two inputs to be mapped,\n",
    "# thus why `vectorize_text` takes two arguments: `text`, and `label`\n",
    "# and returns `label` unchanged.\n",
    "\n",
    "train_ds = raw_train_ds.map(vectorize_text)\n",
    "val_ds = raw_val_ds.map(vectorize_text)\n",
    "test_ds = raw_test_ds.map(vectorize_text)"
   ]
  },
  {
   "cell_type": "markdown",
   "id": "f8df1d4d-a6d3-4cb6-9eb7-9e026d5b3abe",
   "metadata": {},
   "source": [
    "Making sure I/O does not become a bottleneck while training by caching the datasets:"
   ]
  },
  {
   "cell_type": "code",
   "execution_count": 15,
   "id": "1d366418-087c-4136-8185-6b80fa9ed218",
   "metadata": {
    "tags": []
   },
   "outputs": [],
   "source": [
    "AUTOTUNE = tf.data.AUTOTUNE\n",
    "\n",
    "train_ds = train_ds.cache().prefetch(buffer_size=AUTOTUNE)\n",
    "val_ds = val_ds.cache().prefetch(buffer_size=AUTOTUNE)\n",
    "test_ds = test_ds.cache().prefetch(buffer_size=AUTOTUNE)"
   ]
  },
  {
   "cell_type": "markdown",
   "id": "02f20f19-5931-4440-8ff6-90b470d166a4",
   "metadata": {},
   "source": [
    "### Creating, compiling, and training the model"
   ]
  },
  {
   "cell_type": "code",
   "execution_count": 16,
   "id": "5033136a-be55-4413-b3f5-db7d89e56f80",
   "metadata": {
    "tags": []
   },
   "outputs": [
    {
     "name": "stdout",
     "output_type": "stream",
     "text": [
      "Model: \"sequential\"\n",
      "_________________________________________________________________\n",
      " Layer (type)                Output Shape              Param #   \n",
      "=================================================================\n",
      " embedding (Embedding)       (None, None, 24)          240024    \n",
      "                                                                 \n",
      " dropout (Dropout)           (None, None, 24)          0         \n",
      "                                                                 \n",
      " global_average_pooling1d (G  (None, 24)               0         \n",
      " lobalAveragePooling1D)                                          \n",
      "                                                                 \n",
      " dropout_1 (Dropout)         (None, 24)                0         \n",
      "                                                                 \n",
      " dense (Dense)               (None, 1)                 25        \n",
      "                                                                 \n",
      "=================================================================\n",
      "Total params: 240,049\n",
      "Trainable params: 240,049\n",
      "Non-trainable params: 0\n",
      "_________________________________________________________________\n"
     ]
    }
   ],
   "source": [
    "EMBEDDING_DIM = 24\n",
    "\n",
    "model = tf.keras.Sequential([\n",
    "    tf.keras.layers.Embedding(MAX_FEATURES + 1, EMBEDDING_DIM),\n",
    "    tf.keras.layers.Dropout(0.2),\n",
    "    tf.keras.layers.GlobalAveragePooling1D(),\n",
    "    tf.keras.layers.Dropout(0.2),\n",
    "    tf.keras.layers.Dense(1)\n",
    "])\n",
    "\n",
    "model.compile(loss=tf.keras.losses.BinaryCrossentropy(from_logits=True),\n",
    "              optimizer=tf.keras.optimizers.Adam(),\n",
    "              metrics=tf.metrics.BinaryAccuracy(threshold=0.0))\n",
    "\n",
    "model.summary()"
   ]
  },
  {
   "cell_type": "code",
   "execution_count": 17,
   "id": "e099f5f7-d8cc-4013-ba1a-b8a87b171072",
   "metadata": {
    "tags": []
   },
   "outputs": [
    {
     "name": "stdout",
     "output_type": "stream",
     "text": [
      "Epoch 1/10\n",
      "625/625 [==============================] - 2s 2ms/step - loss: 0.6531 - binary_accuracy: 0.7063 - val_loss: 0.5876 - val_binary_accuracy: 0.7844\n",
      "Epoch 2/10\n",
      "625/625 [==============================] - 1s 2ms/step - loss: 0.5108 - binary_accuracy: 0.8174 - val_loss: 0.4574 - val_binary_accuracy: 0.8348\n",
      "Epoch 3/10\n",
      "625/625 [==============================] - 1s 2ms/step - loss: 0.4032 - binary_accuracy: 0.8576 - val_loss: 0.3853 - val_binary_accuracy: 0.8572\n",
      "Epoch 4/10\n",
      "625/625 [==============================] - 1s 2ms/step - loss: 0.3426 - binary_accuracy: 0.8748 - val_loss: 0.3466 - val_binary_accuracy: 0.8674\n",
      "Epoch 5/10\n",
      "625/625 [==============================] - 1s 2ms/step - loss: 0.3042 - binary_accuracy: 0.8888 - val_loss: 0.3237 - val_binary_accuracy: 0.8724\n",
      "Epoch 6/10\n",
      "625/625 [==============================] - 1s 2ms/step - loss: 0.2770 - binary_accuracy: 0.8982 - val_loss: 0.3091 - val_binary_accuracy: 0.8732\n",
      "Epoch 7/10\n",
      "625/625 [==============================] - 1s 2ms/step - loss: 0.2548 - binary_accuracy: 0.9071 - val_loss: 0.2994 - val_binary_accuracy: 0.8772\n",
      "Epoch 8/10\n",
      "625/625 [==============================] - 1s 1ms/step - loss: 0.2362 - binary_accuracy: 0.9150 - val_loss: 0.2927 - val_binary_accuracy: 0.8794\n",
      "Epoch 9/10\n",
      "625/625 [==============================] - 1s 2ms/step - loss: 0.2204 - binary_accuracy: 0.9208 - val_loss: 0.2888 - val_binary_accuracy: 0.8804\n",
      "Epoch 10/10\n",
      "625/625 [==============================] - 1s 2ms/step - loss: 0.2071 - binary_accuracy: 0.9262 - val_loss: 0.2868 - val_binary_accuracy: 0.8814\n"
     ]
    }
   ],
   "source": [
    "EPOCHS = 10\n",
    "\n",
    "history = model.fit(\n",
    "    train_ds,\n",
    "    validation_data=val_ds,\n",
    "    epochs=EPOCHS)"
   ]
  },
  {
   "cell_type": "markdown",
   "id": "8d662b0f-078c-4294-9e34-e09627862759",
   "metadata": {},
   "source": [
    "Evaluating the model:"
   ]
  },
  {
   "cell_type": "code",
   "execution_count": 18,
   "id": "5ee7393f-e24a-44e4-ba9b-aecca81374c1",
   "metadata": {
    "tags": []
   },
   "outputs": [
    {
     "name": "stdout",
     "output_type": "stream",
     "text": [
      "782/782 [==============================] - 1s 739us/step - loss: 0.3078 - binary_accuracy: 0.8743\n",
      "Loss:  0.30777454376220703\n",
      "Accuracy:  0.8742799758911133\n"
     ]
    }
   ],
   "source": [
    "loss, acc = model.evaluate(test_ds)\n",
    "\n",
    "print(\"Loss: \", loss)\n",
    "print(\"Accuracy: \", acc)"
   ]
  },
  {
   "cell_type": "markdown",
   "id": "f65bcf2d-ca31-4a1e-a1a4-f911732e4960",
   "metadata": {},
   "source": [
    "### Visualizing"
   ]
  },
  {
   "cell_type": "code",
   "execution_count": 19,
   "id": "87997fd0-dce8-4fa7-8836-7e906b15ab10",
   "metadata": {
    "tags": []
   },
   "outputs": [
    {
     "data": {
      "text/plain": [
       "dict_keys(['loss', 'binary_accuracy', 'val_loss', 'val_binary_accuracy'])"
      ]
     },
     "execution_count": 19,
     "metadata": {},
     "output_type": "execute_result"
    }
   ],
   "source": [
    "history_dict = history.history\n",
    "history_dict.keys()"
   ]
  },
  {
   "cell_type": "markdown",
   "id": "fa14edd1-3a66-45b6-845f-52206253a2a0",
   "metadata": {},
   "source": [
    "Plotting loss:"
   ]
  },
  {
   "cell_type": "code",
   "execution_count": 20,
   "id": "bd7481e6-8f2e-4d54-9dbc-be3235c3c1e1",
   "metadata": {
    "tags": []
   },
   "outputs": [
    {
     "data": {
      "image/png": "[encoded data removed]",
      "text/plain": [
       "<Figure size 640x480 with 1 Axes>"
      ]
     },
     "metadata": {},
     "output_type": "display_data"
    }
   ],
   "source": [
    "loss = history_dict[\"loss\"]\n",
    "val_loss = history_dict['val_loss']\n",
    "\n",
    "epochs = np.arange(1, EPOCHS + 1)\n",
    "\n",
    "# \"bo\" is for \"blue dot\"\n",
    "plt.plot(epochs, loss, 'bo', label='Training loss')\n",
    "# b is for \"solid blue line\"\n",
    "plt.plot(epochs, val_loss, 'b', label='Validation loss')\n",
    "plt.title('Training and validation loss')\n",
    "plt.xlabel('Epochs')\n",
    "plt.ylabel('Loss')\n",
    "plt.legend()\n",
    "\n",
    "plt.show()"
   ]
  },
  {
   "cell_type": "markdown",
   "id": "a05d01b3-a6fa-4f89-b8be-9f05d3e71f98",
   "metadata": {},
   "source": [
    "Plotting accuracy:"
   ]
  },
  {
   "cell_type": "code",
   "execution_count": 21,
   "id": "57b77f79-d68c-482e-ba45-c24ec3cdb030",
   "metadata": {
    "tags": []
   },
   "outputs": [
    {
     "data": {
      "image/png": "[encoded data removed]",
      "text/plain": [
       "<Figure size 640x480 with 1 Axes>"
      ]
     },
     "metadata": {},
     "output_type": "display_data"
    }
   ],
   "source": [
    "acc = history_dict['binary_accuracy']\n",
    "val_acc = history_dict['val_binary_accuracy']\n",
    "\n",
    "plt.plot(epochs, acc, 'bo', label='Training acc')\n",
    "plt.plot(epochs, val_acc, 'b', label='Validation acc')\n",
    "plt.title('Training and validation accuracy')\n",
    "plt.xlabel('Epochs')\n",
    "plt.ylabel('Accuracy')\n",
    "plt.legend(loc='lower right')\n",
    "\n",
    "plt.show()"
   ]
  },
  {
   "cell_type": "code",
   "execution_count": 24,
   "id": "1b57d34a-6aab-470c-a30f-c58e052dea84",
   "metadata": {},
   "outputs": [
    {
     "name": "stdout",
     "output_type": "stream",
     "text": [
      "1/1 [==============================] - 0s 11ms/step\n",
      "Positive review prediciton: 0.6602923274040222\n",
      "1/1 [==============================] - 0s 9ms/step\n",
      "Negative review prediciton: -1.021937608718872\n"
     ]
    }
   ],
   "source": [
    "p = vectorize_layer([\"The best movie ever. I love it so much.\"])\n",
    "n = vectorize_layer([\"The worst movie ever. I hate it so much.\"])\n",
    "\n",
    "print(\"Positive review prediciton:\", float(model.predict(p)))\n",
    "print(\"Negative review prediciton:\", float(model.predict(n)))"
   ]
  },
  {
   "cell_type": "code",
   "execution_count": null,
   "id": "223beb82-bf2a-4978-a819-c4aa733d4b06",
   "metadata": {},
   "outputs": [],
   "source": []
  }
 ],
 "metadata": {
  "kernelspec": {
   "display_name": "Python 3 (ipykernel)",
   "language": "python",
   "name": "python3"
  },
  "language_info": {
   "codemirror_mode": {
    "name": "ipython",
    "version": 3
   },
   "file_extension": ".py",
   "mimetype": "text/x-python",
   "name": "python",
   "nbconvert_exporter": "python",
   "pygments_lexer": "ipython3",
   "version": "3.10.9"
  }
 },
 "nbformat": 4,
 "nbformat_minor": 5
}
