{
 "cells": [
  {
   "cell_type": "markdown",
   "id": "53878deb-d803-4089-9aaf-d4b32a7bed21",
   "metadata": {},
   "source": [
    "# IMDB Sentiment Analysis\n",
    "The following model will be trained to classify movie reviews as either positive or negative. The input of this model will be reviews' text."
   ]
  },
  {
   "cell_type": "markdown",
   "id": "376014e0-892e-469c-98f6-fcb07a09e560",
   "metadata": {},
   "source": [
    "### Importing necessary tools"
   ]
  },
  {
   "cell_type": "code",
   "execution_count": 40,
   "id": "9331555b-2e4a-45a6-9625-23656013aae1",
   "metadata": {
    "tags": []
   },
   "outputs": [],
   "source": [
    "import tensorflow as tf\n",
    "from tensorflow import version\n",
    "\n",
    "import os\n",
    "import shutil  # shell utilities"
   ]
  },
  {
   "cell_type": "code",
   "execution_count": 41,
   "id": "a593473b-ec77-4e4c-b524-51b41c43c51f",
   "metadata": {
    "tags": []
   },
   "outputs": [
    {
     "name": "stdout",
     "output_type": "stream",
     "text": [
      "TensorFlow version:  2.11.0\n"
     ]
    }
   ],
   "source": [
    "print(\"TensorFlow version: \", version.VERSION)"
   ]
  },
  {
   "cell_type": "markdown",
   "id": "ce8db5d7-b058-4fb9-b8fa-b5a9ba72bedd",
   "metadata": {},
   "source": [
    "### Downloading the dataset"
   ]
  },
  {
   "cell_type": "markdown",
   "id": "7cbaeabb-1f51-429e-ad9d-2a70342b0efe",
   "metadata": {},
   "source": [
    "If dataset is not downloaded, download and extract it:"
   ]
  },
  {
   "cell_type": "code",
   "execution_count": 42,
   "id": "e3617195-1adc-4b23-aa25-d057984f30ac",
   "metadata": {
    "tags": []
   },
   "outputs": [
    {
     "data": {
      "text/plain": [
       "['train', 'test', 'imdbEr.txt', 'README', '.ipynb_checkpoints', 'imdb.vocab']"
      ]
     },
     "execution_count": 42,
     "metadata": {},
     "output_type": "execute_result"
    }
   ],
   "source": [
    "if not os.path.isdir(\"data/aclImdb\"):\n",
    "    url = r\"https://ai.stanford.edu/%7Eamaas/data/sentiment/aclImdb_v1.tar.gz\"\n",
    "    dataset = tf.keras.utils.get_file(\n",
    "        fname=\"aclImdb_v1\", origin=url,\n",
    "        cache_dir=\"data\", cache_subdir='',\n",
    "        extract=True,\n",
    "    )\n",
    "    dataset_dir = os.path.join(os.path.dirname(dataset), \"aclImdb\")\n",
    "else:\n",
    "    dataset_dir = \"data/aclImdb\"\n",
    "\n",
    "os.listdir(dataset_dir)"
   ]
  },
  {
   "cell_type": "markdown",
   "id": "de07eed8-3238-4269-b04a-8370b8c242d4",
   "metadata": {},
   "source": [
    "Listing the directories inside of the 'train' directory and visualizing an input sample's format:\n",
    "\n",
    "**Note**: I notice \"br\" tags which must be taken care of."
   ]
  },
  {
   "cell_type": "code",
   "execution_count": 43,
   "id": "629e9d4d-3bb1-4db8-91e5-761cbccfa907",
   "metadata": {
    "tags": []
   },
   "outputs": [
    {
     "name": "stdout",
     "output_type": "stream",
     "text": [
      "data/aclImdb/train:\n",
      "\t['pos', 'neg', 'urls_neg.txt', 'labeledBow.feat', 'unsupBow.feat', 'urls_pos.txt', 'urls_unsup.txt']\n",
      "\n",
      "data/aclImdb/train/pos:\n",
      "\t['6797_8.txt', '736_10.txt', '12370_8.txt', '7142_8.txt', '1946_9.txt']...\n",
      "\n",
      "Sample positive review :\n",
      "\t Holes, originally a novel by Louis Sachar, was successfully transformed into an entertaining and well-made film. Starring Sigourney Weaver as the warden, Shia Labeouf as Stanley, and Khleo Thomas as Zero, the roles were very well casted, and the actors portrayed their roles well.<br /><br />The film had inter-weaving storylines that all led up to the end. The main storyline is about Stanley Yelnats and his punishment of spending a year and a half at Camp Greenlake. The second storyline is about Sam and Kate Barlow. This plot deals with racism and it is the more deep storyline to the movie. The third is about Elya Yelnats and Madame Zeroni, which explains the 100-year curse on the Yelnats family. In my opinion, these storylines were weaved together very well.<br /><br />Contrary to many people's beliefs, I think that you do not have to have read the book to understand the movie. The film is reasonably easy to understand.<br /><br />The acting in the film was well done, especially Shia Labeouf (Stanley), Khleo Thomas (Zero), Sigourney Weaver (the warden), and Jon Voight (Mr. Sir). The other members of D-Tent, Jake Smith (Squid), Max Kasch (Zig-Zag), Miguel Castro (Magnet), Byron Cotton (Armpit), and Brenden Jefferson (X-Ray), enhanced the comic relief of the movie. However, the best parts were with Zero and Stanley, who made a great team together.<br /><br />Although Holes is a Disney movie, it deals with some serious issues such as racism, shootings, and violence. The film's dramatization at some points is very well done.<br /><br />I would suggest this movie to people of all ages, whether they have read the book or not. You shouldn't miss it.\n"
     ]
    }
   ],
   "source": [
    "train_dir = os.path.join(dataset_dir, \"train\")\n",
    "print(train_dir, \":\\n\\t\" , os.listdir(train_dir), sep='', end=\"\\n\\n\")\n",
    "\n",
    "pos_dir = os.path.join(train_dir, \"pos\")\n",
    "print(pos_dir, \":\\n\\t\" , os.listdir(pos_dir)[:5], \"...\", sep='', end=\"\\n\\n\")\n",
    "\n",
    "sample_file = os.path.join(pos_dir, \"7142_8.txt\")\n",
    "with open(sample_file, 'r') as f:\n",
    "    print(\"Sample positive review\", \":\\n\\t\", f.read())"
   ]
  },
  {
   "cell_type": "markdown",
   "id": "42319720-7fcd-4dbf-8a34-651bcdba97d2",
   "metadata": {},
   "source": [
    "### Loading the dataset to memory:"
   ]
  },
  {
   "cell_type": "markdown",
   "id": "a4e430f3-9e9c-424c-8a52-49b09b947872",
   "metadata": {},
   "source": [
    "**Note**: To prepare a dataset for binary classification, you will need two folders on disk, corresponding to class_a and class_b.  Any other folders must be removed before using the `text_dataset_from_directory` utility.\n",
    "\n",
    "Removing the extra directory \"unsup\" from the \"train\" directory if it exists:"
   ]
  },
  {
   "cell_type": "code",
   "execution_count": 44,
   "id": "afb9fcf7-1818-408a-941b-029e626cb36b",
   "metadata": {
    "tags": []
   },
   "outputs": [],
   "source": [
    "if os.path.isdir(\"data/aclImdb/train/unsup\"):\n",
    "    unsup_dir = os.path.join(train_dir, \"unsup\")\n",
    "    shutil.rmtree(unsup_dir)\n",
    "    print(\"Deleted \\\"unsup\\\" directory.\")"
   ]
  },
  {
   "cell_type": "markdown",
   "id": "791cb97a-20b4-4d25-af89-3992b8b176be",
   "metadata": {},
   "source": [
    "Dividing the raw dataset into training and validation sets using the `validation_split` argument (80:20):"
   ]
  },
  {
   "cell_type": "code",
   "execution_count": 45,
   "id": "cf518bc3-09fb-4938-9561-6594f40f5c1a",
   "metadata": {
    "tags": []
   },
   "outputs": [
    {
     "name": "stdout",
     "output_type": "stream",
     "text": [
      "Found 25000 files belonging to 2 classes.\n",
      "Using 20000 files for training.\n",
      "Using 5000 files for validation.\n"
     ]
    },
    {
     "data": {
      "text/plain": [
       "'\\nraw_train_ds = tf.keras.utils.text_dataset_from_directory(\\n    directory=train_dir, \\n    batch_size=batch_size,\\n    validation_split=0.2,\\n    subset=\"training\",\\n    seed=seed)\\n\\nraw_val_ds = tf.keras.utils.text_dataset_from_directory(\\n    directory=train_dir, \\n    batch_size=batch_size, \\n    validation_split=0.2, \\n    subset=\\'validation\\', \\n    seed=seed)\\n'"
      ]
     },
     "execution_count": 45,
     "metadata": {},
     "output_type": "execute_result"
    }
   ],
   "source": [
    "batch_size = 32\n",
    "seed = 42\n",
    "\n",
    "raw_train_ds, raw_val_ds = tf.keras.utils.text_dataset_from_directory(\n",
    "    directory=train_dir,\n",
    "    batch_size=batch_size,\n",
    "    validation_split=0.2,\n",
    "    subset=\"both\",\n",
    "    seed=seed)\n",
    "\n",
    "# alternatively:\n",
    "'''\n",
    "raw_train_ds = tf.keras.utils.text_dataset_from_directory(\n",
    "    directory=train_dir, \n",
    "    batch_size=batch_size,\n",
    "    validation_split=0.2,\n",
    "    subset=\"training\",\n",
    "    seed=seed)\n",
    "\n",
    "raw_val_ds = tf.keras.utils.text_dataset_from_directory(\n",
    "    directory=train_dir, \n",
    "    batch_size=batch_size, \n",
    "    validation_split=0.2, \n",
    "    subset='validation', \n",
    "    seed=seed)\n",
    "'''"
   ]
  },
  {
   "cell_type": "markdown",
   "id": "8f42d2de-a921-41da-a384-1194346cb362",
   "metadata": {},
   "source": [
    "Notice Dataset type difference:"
   ]
  },
  {
   "cell_type": "code",
   "execution_count": 46,
   "id": "46dc7e87-248d-45a6-bd24-0cc5a62a6163",
   "metadata": {
    "tags": []
   },
   "outputs": [
    {
     "data": {
      "text/plain": [
       "(<BatchDataset element_spec=(TensorSpec(shape=(None,), dtype=tf.string, name=None), TensorSpec(shape=(None,), dtype=tf.int32, name=None))>,\n",
       " <TakeDataset element_spec=(TensorSpec(shape=(None,), dtype=tf.string, name=None), TensorSpec(shape=(None,), dtype=tf.int32, name=None))>)"
      ]
     },
     "execution_count": 46,
     "metadata": {},
     "output_type": "execute_result"
    }
   ],
   "source": [
    "raw_train_ds, raw_train_ds.take(count=1)"
   ]
  },
  {
   "cell_type": "markdown",
   "id": "323be136-2225-4a10-9d52-2f2dd6415ebf",
   "metadata": {},
   "source": [
    "Iterating over the batches of BatchDataset and visualizing 3 examples from each batch:"
   ]
  },
  {
   "cell_type": "code",
   "execution_count": 47,
   "id": "5f798996-21e4-47d4-9fc0-a4d72c7e68c8",
   "metadata": {
    "tags": []
   },
   "outputs": [
    {
     "name": "stdout",
     "output_type": "stream",
     "text": [
      "Review b'\"Pandemonium\" is a horror movie spoof that comes off more stupid than funny. Believe me when I tell you, I love comedies. Especially comedy spoofs. \"Airplane\", \"The Naked Gun\" trilogy, \"Blazing Saddles\", \"High Anxiety\", and \"Spaceballs\" are some of my favorite comedies that spoof a particular genre. \"Pandemonium\" is not up there with those films. Most of the scenes in this movie had me sitting there in stunned silence because the movie wasn\\'t all that funny. There are a few laughs in the film, but when you watch a comedy, you expect to laugh a lot more than a few times and that\\'s all this film has going for it. Geez, \"Scream\" had more laughs than this film and that was more of a horror film. How bizarre is that?<br /><br />*1/2 (out of four)'\n",
      "Label 0\n",
      "Review b\"David Mamet is a very interesting and a very un-equal director. His first movie 'House of Games' was the one I liked best, and it set a series of films with characters whose perspective of life changes as they get into complicated situations, and so does the perspective of the viewer.<br /><br />So is 'Homicide' which from the title tries to set the mind of the viewer to the usual crime drama. The principal characters are two cops, one Jewish and one Irish who deal with a racially charged area. The murder of an old Jewish shop owner who proves to be an ancient veteran of the Israeli Independence war triggers the Jewish identity in the mind and heart of the Jewish detective.<br /><br />This is were the flaws of the film are the more obvious. The process of awakening is theatrical and hard to believe, the group of Jewish militants is operatic, and the way the detective eventually walks to the final violent confrontation is pathetic. The end of the film itself is Mamet-like smart, but disappoints from a human emotional perspective.<br /><br />Joe Mantegna and William Macy give strong performances, but the flaws of the story are too evident to be easily compensated.\"\n",
      "Label 0\n",
      "Review b'Great documentary about the lives of NY firefighters during the worst terrorist attack of all time.. That reason alone is why this should be a must see collectors item.. What shocked me was not only the attacks, but the\"High Fat Diet\" and physical appearance of some of these firefighters. I think a lot of Doctors would agree with me that,in the physical shape they were in, some of these firefighters would NOT of made it to the 79th floor carrying over 60 lbs of gear. Having said that i now have a greater respect for firefighters and i realize becoming a firefighter is a life altering job. The French have a history of making great documentary\\'s and that is what this is, a Great Documentary.....'\n",
      "Label 1\n"
     ]
    }
   ],
   "source": [
    "for text_batch, label_batch in raw_train_ds.take(count=1):  # count is the number of batches in this BatchDataset\n",
    "    for i in range(3):\n",
    "        print(\"Review\", text_batch.numpy()[i])\n",
    "        print(\"Label\", label_batch.numpy()[i])"
   ]
  },
  {
   "cell_type": "markdown",
   "id": "96f8fb88-2074-44d5-bc17-81a46c7cea74",
   "metadata": {},
   "source": [
    "Printing class names for each class label:\n",
    "\n",
    "**Note**: These are inferred from the folder names by the `text_dataset_from_directory` utility. There are other options in the `labels` argument for naming the classes. Also, this attribute is added by the utility and does not exist in the default `Dataset` class."
   ]
  },
  {
   "cell_type": "code",
   "execution_count": 48,
   "id": "31e47f0a-e9c1-456c-87ab-7f5aec2e7cb0",
   "metadata": {
    "tags": []
   },
   "outputs": [
    {
     "name": "stdout",
     "output_type": "stream",
     "text": [
      "Label 0: neg\n",
      "Label 1: pos\n"
     ]
    }
   ],
   "source": [
    "print(\"Label 0:\", raw_train_ds.class_names[0])\n",
    "print(\"Label 1:\", raw_train_ds.class_names[1])"
   ]
  },
  {
   "cell_type": "code",
   "execution_count": null,
   "id": "3bb8732d-21ae-4e7f-8f9d-d36ca5db2d1e",
   "metadata": {
    "tags": []
   },
   "outputs": [],
   "source": []
  },
  {
   "cell_type": "code",
   "execution_count": null,
   "id": "4a1e3f2e-9b5c-4fd9-afc5-bd3dd737b7fc",
   "metadata": {},
   "outputs": [],
   "source": []
  }
 ],
 "metadata": {
  "kernelspec": {
   "display_name": "Python 3 (ipykernel)",
   "language": "python",
   "name": "python3"
  },
  "language_info": {
   "codemirror_mode": {
    "name": "ipython",
    "version": 3
   },
   "file_extension": ".py",
   "mimetype": "text/x-python",
   "name": "python",
   "nbconvert_exporter": "python",
   "pygments_lexer": "ipython3",
   "version": "3.10.9"
  }
 },
 "nbformat": 4,
 "nbformat_minor": 5
}
